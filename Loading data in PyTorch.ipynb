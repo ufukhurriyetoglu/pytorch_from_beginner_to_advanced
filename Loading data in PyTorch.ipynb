{
 "cells": [
  {
   "cell_type": "markdown",
   "id": "83947e8a",
   "metadata": {},
   "source": [
    "Using the yesno dataset from torchaudio.datasets.YESNO, we will demonstrate how to effectively and efficiently load data from a PyTorch Dataset into a PyTorch DataLoader."
   ]
  },
  {
   "cell_type": "markdown",
   "id": "63261bbf",
   "metadata": {},
   "source": [
    "# Steps: \n",
    "\n",
    "\n",
    "1. Import all necessary libraries for loading our data\n",
    "\n",
    "2. Access the data in the dataset\n",
    "\n",
    "3. Loading the data\n",
    "\n",
    "4. Iterate over the data\n",
    "\n",
    "5. [Optional] Visualize the data\n"
   ]
  },
  {
   "cell_type": "code",
   "execution_count": 1,
   "id": "15852b29",
   "metadata": {},
   "outputs": [],
   "source": [
    "import torch\n",
    "import torchaudio"
   ]
  },
  {
   "cell_type": "code",
   "execution_count": 2,
   "id": "220f7b77",
   "metadata": {},
   "outputs": [],
   "source": [
    "yesno_data = torchaudio.datasets.YESNO(\n",
    "     root='./',\n",
    "     url='http://www.openslr.org/resources/1/waves_yesno.tar.gz',\n",
    "     folder_in_archive='waves_yesno',\n",
    "     download=True)"
   ]
  },
  {
   "cell_type": "code",
   "execution_count": 3,
   "id": "74aea641",
   "metadata": {},
   "outputs": [
    {
     "name": "stdout",
     "output_type": "stream",
     "text": [
      "Waveform: tensor([[ 3.0518e-05,  6.1035e-05,  3.0518e-05,  ..., -1.8311e-04,\n",
      "          4.2725e-04,  6.7139e-04]])\n",
      "Sample rate: 8000\n",
      "Labels: [0, 0, 1, 0, 0, 0, 1, 0]\n"
     ]
    }
   ],
   "source": [
    "# Pick data point number 3 to see an example of the the ``yesno_data``:\n",
    "n = 3\n",
    "waveform, sample_rate, labels = yesno_data[n]\n",
    "print(\"Waveform: {}\\nSample rate: {}\\nLabels: {}\".format(waveform, sample_rate, labels))"
   ]
  },
  {
   "cell_type": "code",
   "execution_count": 4,
   "id": "82933ccb",
   "metadata": {},
   "outputs": [],
   "source": [
    "data_loader = torch.utils.data.DataLoader(yesno_data, batch_size=1, shuffle=True)"
   ]
  },
  {
   "cell_type": "code",
   "execution_count": 5,
   "id": "de983371",
   "metadata": {},
   "outputs": [
    {
     "name": "stdout",
     "output_type": "stream",
     "text": [
      "Data:  [tensor([[[3.0518e-05, 6.1035e-05, 3.0518e-05,  ..., 1.3123e-03,\n",
      "          1.3123e-03, 1.8921e-03]]]), tensor([8000]), [tensor([1]), tensor([1]), tensor([0]), tensor([0]), tensor([0]), tensor([1]), tensor([1]), tensor([1])]]\n",
      "Waveform: tensor([[[3.0518e-05, 6.1035e-05, 3.0518e-05,  ..., 1.3123e-03,\n",
      "          1.3123e-03, 1.8921e-03]]])\n",
      "Sample rate: tensor([8000])\n",
      "Labels: [tensor([1]), tensor([1]), tensor([0]), tensor([0]), tensor([0]), tensor([1]), tensor([1]), tensor([1])]\n"
     ]
    }
   ],
   "source": [
    "for data in data_loader:\n",
    "    print(\"Data: \", data)\n",
    "    print(\"Waveform: {}\\nSample rate: {}\\nLabels: {}\".format(data[0], data[1], data[2]))\n",
    "    break"
   ]
  },
  {
   "cell_type": "code",
   "execution_count": 6,
   "id": "32c80f53",
   "metadata": {},
   "outputs": [
    {
     "name": "stdout",
     "output_type": "stream",
     "text": [
      "[[3.0517578e-05 6.1035156e-05 3.0517578e-05 ... 1.3122559e-03\n",
      "  1.3122559e-03 1.8920898e-03]]\n"
     ]
    },
    {
     "data": {
      "text/plain": [
       "[<matplotlib.lines.Line2D at 0x1bf0d532740>]"
      ]
     },
     "execution_count": 6,
     "metadata": {},
     "output_type": "execute_result"
    },
    {
     "data": {
      "image/png": "[encoded data removed]",
      "text/plain": [
       "<Figure size 640x480 with 1 Axes>"
      ]
     },
     "metadata": {},
     "output_type": "display_data"
    }
   ],
   "source": [
    "import matplotlib.pyplot as plt\n",
    "\n",
    "print(data[0][0].numpy())\n",
    "\n",
    "plt.figure()\n",
    "plt.plot(waveform.t().numpy())"
   ]
  },
  {
   "cell_type": "code",
   "execution_count": null,
   "id": "747a224a",
   "metadata": {},
   "outputs": [],
   "source": []
  }
 ],
 "metadata": {
  "kernelspec": {
   "display_name": "pytorch_env",
   "language": "python",
   "name": "pytorch_env"
  },
  "language_info": {
   "codemirror_mode": {
    "name": "ipython",
    "version": 3
   },
   "file_extension": ".py",
   "mimetype": "text/x-python",
   "name": "python",
   "nbconvert_exporter": "python",
   "pygments_lexer": "ipython3",
   "version": "3.10.13"
  }
 },
 "nbformat": 4,
 "nbformat_minor": 5
}
